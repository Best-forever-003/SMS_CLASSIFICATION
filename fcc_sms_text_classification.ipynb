{
  "cells": [
    {
      "cell_type": "markdown",
      "source": [
        "# **NAME: AAMIR P**\n",
        "#**PROJECT: SMS TEXT CLASSIFICATION**"
      ],
      "metadata": {
        "id": "IOIXZinQBb4l"
      }
    },
    {
      "cell_type": "code",
      "execution_count": null,
      "metadata": {
        "id": "lMHwYXHXCar3"
      },
      "outputs": [],
      "source": [
        "# get data files\n",
        "!wget https://cdn.freecodecamp.org/project-data/sms/train-data.tsv\n",
        "!wget https://cdn.freecodecamp.org/project-data/sms/valid-data.tsv\n",
        "\n",
        "train_file_path = \"train-data.tsv\"\n",
        "test_file_path = \"valid-data.tsv\""
      ]
    },
    {
      "cell_type": "code",
      "source": [
        "train_file_path = \"train-data.tsv\"\n",
        "test_file_path = \"valid-data.tsv\"\n",
        "\n",
        "train_df = pd.read_csv(test_file_path, sep=\"\\t\", header=None, names=[\"type\", \"msg\"])\n",
        "train_df.dropna()\n",
        "train_df.head()"
      ],
      "metadata": {
        "id": "p_OucOCP6-vx"
      },
      "execution_count": null,
      "outputs": []
    },
    {
      "cell_type": "code",
      "execution_count": null,
      "metadata": {
        "id": "g_h508FEClxO"
      },
      "outputs": [],
      "source": [
        "test_df = pd.read_csv(test_file_path, sep=\"\\t\", header=None, names=[\"type\", \"msg\"])\n",
        "test_df.dropna()\n",
        "train_df.head()"
      ]
    },
    {
      "cell_type": "code",
      "source": [
        "train_dataset = pd.read_csv('train-data.tsv',sep='\\t',header=None,names=['class', 'text'],encoding='utf-8')\n",
        "valid_dataset = pd.read_csv('valid-data.tsv',sep='\\t',header=None,names=['class', 'text'],encoding='utf-8')"
      ],
      "metadata": {
        "id": "HwUUzOWu_fBd"
      },
      "execution_count": null,
      "outputs": []
    },
    {
      "cell_type": "code",
      "source": [
        "def preprocess(df):\n",
        "    data = df.copy()\n",
        "    data.loc[data['class'] == 'ham','class'] = 0\n",
        "    data.loc[data['class'] == 'spam','class'] = 1\n",
        "    labels = data.pop('class').astype(np.float32)\n",
        "    new_data = []\n",
        "    for i in data['text']:\n",
        "      new_data.append(i)\n",
        "    return new_data, labels\n",
        "\n",
        "train_data, train_labels = preprocess(train_dataset)\n",
        "valid_data, valid_labels = preprocess(valid_dataset)\n",
        "\n",
        "# Calculating the maximum message length\n",
        "MAXLEN_train = max(train_data, key=len)\n",
        "MAXLEN_valid = max(valid_data, key=len)\n",
        "MAXLEN = max(len(MAXLEN_train.strip()), len(MAXLEN_valid.strip()))"
      ],
      "metadata": {
        "id": "q6SiQU85_bxW"
      },
      "execution_count": null,
      "outputs": []
    },
    {
      "cell_type": "code",
      "source": [
        "dataset = tf.keras.datasets.imdb\n",
        "from keras.preprocessing.sequence import pad_sequences\n",
        "\n",
        "word_index = dataset.get_word_index()\n"
      ],
      "metadata": {
        "id": "fMLjuKCe_zh2"
      },
      "execution_count": null,
      "outputs": []
    },
    {
      "cell_type": "code",
      "source": [
        "def encode_text(text):\n",
        "  tokens = keras.preprocessing.text.text_to_word_sequence(text)\n",
        "  tokens = [word_index[word] if word in word_index else 0 for word in tokens]\n",
        "  return pad_sequences([tokens], MAXLEN)[0]\n",
        "\n",
        "# Func for prep text message for model\n",
        "def prep_to_mod(data_for_prep):\n",
        "    new_data = []\n",
        "    for i in data_for_prep:\n",
        "        new_data.append(encode_text(i))\n",
        "    return np.array(new_data)\n",
        "\n",
        "# Prep data for model\n",
        "new_train_data = prep_to_mod(train_data)\n",
        "new_valid_data = prep_to_mod(valid_data)"
      ],
      "metadata": {
        "id": "uwoddZnn_Xma"
      },
      "execution_count": null,
      "outputs": []
    },
    {
      "cell_type": "code",
      "source": [
        "VOCAB_SIZE = 88584\n",
        "BATCH_SIZE = 64"
      ],
      "metadata": {
        "id": "LA8DQ0W-AGHi"
      },
      "execution_count": null,
      "outputs": []
    },
    {
      "cell_type": "code",
      "source": [
        "model = tf.keras.Sequential([\n",
        "    tf.keras.layers.Embedding(VOCAB_SIZE, 32),\n",
        "    tf.keras.layers.LSTM(32),\n",
        "    tf.keras.layers.Dense(1, activation=\"sigmoid\")\n",
        "])\n",
        "\n",
        "model.compile(loss=\"binary_crossentropy\",optimizer=\"rmsprop\",metrics=['acc'])"
      ],
      "metadata": {
        "id": "m8RFVXjdAARh"
      },
      "execution_count": null,
      "outputs": []
    },
    {
      "cell_type": "code",
      "source": [
        "model.fit(new_train_data, train_labels, epochs=1, validation_split = 0.2)\n"
      ],
      "metadata": {
        "id": "zd-ZJ6em_OoV"
      },
      "execution_count": null,
      "outputs": []
    },
    {
      "cell_type": "code",
      "source": [
        "results = model.evaluate(new_valid_data, valid_labels)\n",
        "print(results)"
      ],
      "metadata": {
        "id": "Nvf2mgtZAN-m"
      },
      "execution_count": null,
      "outputs": []
    },
    {
      "cell_type": "code",
      "source": [
        "def predict_message(pred_text):\n",
        "    encoded_text = encode_text(pred_text)\n",
        "    pred = np.zeros((1, MAXLEN))\n",
        "    pred[0] = encoded_text\n",
        "    result = model.predict(pred).flatten()[0]\n",
        "    label = \"\"\n",
        "    if result > 0.5:\n",
        "        label = \"spam\"\n",
        "    else:\n",
        "        label = \"ham\"\n",
        "    prediction = [result, label]\n",
        "    return (prediction)\n",
        "\n",
        "pred_text = \"sale today! to stop texts call 98912460324\"\n",
        "\n",
        "prediction = predict_message(pred_text)\n",
        "print(prediction)"
      ],
      "metadata": {
        "id": "Ql8fQE3BASCK"
      },
      "execution_count": null,
      "outputs": []
    },
    {
      "cell_type": "code",
      "execution_count": null,
      "metadata": {
        "id": "Dxotov85SjsC"
      },
      "outputs": [],
      "source": [
        "# Run this cell to test your function and model. Do not modify contents.\n",
        "def test_predictions():\n",
        "  test_messages = [\"how are you doing today\",\n",
        "                   \"sale today! to stop texts call 98912460324\",\n",
        "                   \"i dont want to go. can we try it a different day? available sat\",\n",
        "                   \"our new mobile video service is live. just install on your phone to start watching.\",\n",
        "                   \"you have won £1000 cash! call to claim your prize.\",\n",
        "                   \"i'll bring it tomorrow. don't forget the milk.\",\n",
        "                   \"wow, is your arm alright. that happened to me one time too\"\n",
        "                  ]\n",
        "\n",
        "  test_answers = [\"ham\", \"spam\", \"ham\", \"spam\", \"spam\", \"ham\", \"ham\"]\n",
        "  passed = True\n",
        "\n",
        "  for msg, ans in zip(test_messages, test_answers):\n",
        "    prediction = predict_message(msg)\n",
        "    if prediction[1] != ans:\n",
        "      passed = False\n",
        "\n",
        "  if passed:\n",
        "    print(\"You passed the challenge. Great job!\")\n",
        "  else:\n",
        "    print(\"You haven't passed yet. Keep trying.\")\n",
        "\n",
        "test_predictions()\n"
      ]
    }
  ],
  "metadata": {
    "colab": {
      "name": "fcc_sms_text_classification.ipynb",
      "private_outputs": true,
      "provenance": [],
      "toc_visible": true
    },
    "kernelspec": {
      "display_name": "Python 3",
      "name": "python3"
    },
    "language_info": {}
  },
  "nbformat": 4,
  "nbformat_minor": 0
}